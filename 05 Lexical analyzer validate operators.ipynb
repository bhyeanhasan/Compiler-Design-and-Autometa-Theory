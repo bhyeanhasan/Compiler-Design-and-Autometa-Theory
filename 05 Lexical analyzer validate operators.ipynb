{
 "cells": [
  {
   "cell_type": "code",
<<<<<<< HEAD:Masud_Sir/05 Lexical analyzer validate operators.ipynb
   "execution_count": 6,
   "metadata": {
    "ExecuteTime": {
     "end_time": "2023-11-28T07:29:46.456273200Z",
     "start_time": "2023-11-28T07:29:46.420083600Z"
=======
   "execution_count": 1,
   "metadata": {
    "ExecuteTime": {
     "end_time": "2023-11-28T04:09:50.325773Z",
     "start_time": "2023-11-28T04:09:42.806066400Z"
>>>>>>> ff3b814ec83e78a7182813ffa313aa5be458c69b:Masud_Sir/lexical_analyzer_validate_operators.ipynb
    }
   },
   "outputs": [
    {
     "name": "stdout",
     "output_type": "stream",
     "text": [
<<<<<<< HEAD:Masud_Sir/05 Lexical analyzer validate operators.ipynb
      "a = a + b\n",
=======
      "a = a+ b\n",
>>>>>>> ff3b814ec83e78a7182813ffa313aa5be458c69b:Masud_Sir/lexical_analyzer_validate_operators.ipynb
      "['a', '=', 'a', '+', 'b']\n",
      "Invalid operator: a\n",
      "Valid operator: =\n",
      "Invalid operator: a\n",
      "Valid operator: +\n",
      "Invalid operator: b\n"
     ]
    }
   ],
   "source": [
    "import re\n",
    "\n",
    "\n",
    "def lexical_analyzer(input_string):\n",
    "    arithmetic_operators = ['+', '-', '*', '/', '//', '%', '**']\n",
    "    assignment_operators = ['=', '+=', '-=', '*=', '/=', '//=', '%=', '**=', '&=', '|=', '^=', '<<=', '>>=']\n",
    "    comparison_operators = ['==', '!=', '<', '>', '<=', '>=']\n",
    "    logical_operators = ['and', 'or', 'not']\n",
    "    bitwise_operators = ['&', '|', '^', '~', '<<', '>>']\n",
    "    membership_operators = ['in', 'not in']\n",
    "    identity_operators = ['is', 'is not']\n",
    "\n",
    "    operators = arithmetic_operators + assignment_operators + comparison_operators + \\\n",
    "                logical_operators + bitwise_operators + membership_operators + \\\n",
    "                identity_operators\n",
    "\n",
    "    tokens = re.findall(r'\\b\\w+\\b|[\\+\\-\\*/=<>!]+', input_string)\n",
    "    print(tokens)\n",
    "\n",
    "    for token in tokens:\n",
    "        if token in operators:\n",
    "            print(f\"Valid operator: {token}\")\n",
    "        else:\n",
    "            print(f\"Invalid operator: {token}\")\n",
    "\n",
    "\n",
    "if __name__ == \"__main__\":\n",
    "    input_expr = \"a = a + b\"\n",
    "    print(input_expr)\n",
    "\n",
    "    lexical_analyzer(input_expr)\n"
   ]
  }
 ],
 "metadata": {
  "kernelspec": {
   "display_name": "Python 3",
   "language": "python",
   "name": "python3"
  },
  "language_info": {
   "codemirror_mode": {
    "name": "ipython",
    "version": 3
   },
   "file_extension": ".py",
   "mimetype": "text/x-python",
   "name": "python",
   "nbconvert_exporter": "python",
   "pygments_lexer": "ipython3",
   "version": "3.11.0"
  }
 },
 "nbformat": 4,
 "nbformat_minor": 2
}
