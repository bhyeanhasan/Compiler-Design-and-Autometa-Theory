{
 "cells": [
  {
   "cell_type": "code",
   "execution_count": 6,
   "metadata": {
    "ExecuteTime": {
     "end_time": "2024-01-17T15:15:52.582257700Z",
     "start_time": "2024-01-17T15:15:52.562098400Z"
    }
   },
   "outputs": [
    {
     "name": "stdout",
     "output_type": "stream",
     "text": [
      "01 True\n",
      "101 True\n",
      "1101 True\n",
      "001 True\n",
      "10001 True\n",
      "111 False\n",
      "0 False\n",
      "1 False\n"
     ]
    }
   ],
   "source": [
    "# An NFA accepting all strings that in 10 in substrig\n",
    "class NFA:\n",
    "    def __init__(self, states, alphabet, transitions, start_state, accepting_states):\n",
    "        self.states = states\n",
    "        self.alphabet = alphabet\n",
    "        self.transitions = transitions\n",
    "        self.start_state = start_state\n",
    "        self.accepting_states = accepting_states\n",
    "\n",
    "    def accepts(self, string):\n",
    "        current_states = {self.start_state}\n",
    "        for char in string:\n",
    "            next_states = set()\n",
    "            for state in current_states:\n",
    "                if (state, char) in self.transitions:\n",
    "                    next_states.update(self.transitions[(state, char)])\n",
    "            current_states = next_states\n",
    "        return bool(current_states & self.accepting_states)\n",
    "\n",
    "# Define the NFA components\n",
    "states = {\"q0\", \"q1\", \"q2\"}\n",
    "alphabet = {\"0\", \"1\"}\n",
    "transitions = {\n",
    "    ('q0', '0'): {'q0', 'q1'},\n",
    "    ('q0', '1'): {'q0'},\n",
    "    ('q1', '1'): {'q2'}\n",
    "}\n",
    "\n",
    "start_state = \"q0\"\n",
    "accepting_states = {\"q2\"}\n",
    "\n",
    "# Create the NFA instance\n",
    "nfa = NFA(states, alphabet, transitions, start_state, accepting_states)\n",
    "\n",
    "# Test some strings\n",
    "print(\"01\" , nfa.accepts(\"01\"))      # True\n",
    "print(\"101\" , nfa.accepts(\"101\"))     # True\n",
    "print(  \"1101\" , nfa.accepts(\"1101\"))    # True\n",
    "print(  \"001\" , nfa.accepts(\"001\"))     # True\n",
    "print(  \"10001\" , nfa.accepts(\"10001\"))   # True\n",
    "print(  \"111\" , nfa.accepts(\"111\"))     # False\n",
    "print(  \"0\" , nfa.accepts(\"0\"))       # False\n",
    "print(  \"1\" , nfa.accepts(\"1\"))       # False\n"
   ]
  },
  {
   "cell_type": "code",
   "execution_count": 5,
   "metadata": {
    "ExecuteTime": {
     "end_time": "2024-01-17T15:14:57.806592500Z",
     "start_time": "2024-01-17T15:14:57.787760400Z"
    }
   },
   "outputs": [
    {
     "name": "stdout",
     "output_type": "stream",
     "text": [
      "True\n",
      "True\n",
      "True\n",
      "True\n",
      "True\n",
      "False\n",
      "True\n",
      "False\n"
     ]
    }
   ],
   "source": [
    "# An NFA accepting all strings that end in 01\n",
    "\n",
    "class NFA:\n",
    "    def __init__(self, states, alphabet, transitions, start_state, accepting_states):\n",
    "        self.states = states\n",
    "        self.alphabet = alphabet\n",
    "        self.transitions = transitions\n",
    "        self.start_state = start_state\n",
    "        self.accepting_states = accepting_states\n",
    "\n",
    "    def epsilon_closure(self, states):\n",
    "        result = set(states)\n",
    "        stack = list(states)\n",
    "        while stack:\n",
    "            current_state = stack.pop()\n",
    "            if ('', current_state) in self.transitions:\n",
    "                epsilon_transitions = self.transitions[('', current_state)]\n",
    "                new_states = epsilon_transitions - result\n",
    "                result.update(new_states)\n",
    "                stack.extend(new_states)\n",
    "        return result\n",
    "\n",
    "    def move(self, states, symbol):\n",
    "        result = set()\n",
    "        for state in states:\n",
    "            if (state, symbol) in self.transitions:\n",
    "                result.update(self.transitions[(state, symbol)])\n",
    "        return result\n",
    "\n",
    "    def accepts(self, string):\n",
    "        current_states = self.epsilon_closure({self.start_state})\n",
    "        for char in string:\n",
    "            current_states = self.epsilon_closure(self.move(current_states, char))\n",
    "\n",
    "        return bool(current_states & self.accepting_states)\n",
    "\n",
    "# Define the NFA components\n",
    "states = {\"q0\", \"q1\", \"q2\"}\n",
    "alphabet = {\"0\", \"1\"}\n",
    "transitions = {\n",
    "    (\"q0\", \"0\"): {\"q0\"},\n",
    "    (\"q0\", \"1\"): {\"q1\"},\n",
    "    (\"q1\", \"0\"): {\"q2\"},\n",
    "    (\"q1\", \"1\"): {\"q1\"},\n",
    "    (\"q2\", \"0\"): {\"q2\"},\n",
    "    (\"q2\", \"1\"): {\"q2\"},\n",
    "    (\"\", \"q0\"): {\"q1\"}  # Epsilon transition from q0 to q1\n",
    "}\n",
    "start_state = \"q0\"\n",
    "accepting_states = {\"q2\"}\n",
    "\n",
    "# Create the NFA instance\n",
    "nfa = NFA(states, alphabet, transitions, start_state, accepting_states)\n",
    "\n",
    "# Test some strings\n",
    "print(nfa.accepts(\"01\"))      # True\n",
    "print(nfa.accepts(\"101\"))     # True\n",
    "print(nfa.accepts(\"1101\"))    # True\n",
    "print(nfa.accepts(\"001\"))     # True\n",
    "print(nfa.accepts(\"10001\"))   # True\n",
    "print(nfa.accepts(\"111\"))     # False\n",
    "print(nfa.accepts(\"0\"))       # False\n",
    "print(nfa.accepts(\"1\"))       # False\n"
   ]
  }
 ],
 "metadata": {
  "kernelspec": {
   "display_name": "Python 3",
   "language": "python",
   "name": "python3"
  },
  "language_info": {
   "codemirror_mode": {
    "name": "ipython",
    "version": 3
   },
   "file_extension": ".py",
   "mimetype": "text/x-python",
   "name": "python",
   "nbconvert_exporter": "python",
   "pygments_lexer": "ipython3",
   "version": "3.11.0"
  }
 },
 "nbformat": 4,
 "nbformat_minor": 2
}
