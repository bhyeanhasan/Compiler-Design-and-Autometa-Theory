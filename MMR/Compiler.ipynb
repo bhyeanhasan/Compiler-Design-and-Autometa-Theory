{
 "cells": [
  {
   "cell_type": "code",
   "execution_count": 144,
   "outputs": [],
   "source": [
    "from rply import LexerGenerator\n",
    "\n",
    "\n",
    "class Lexer():\n",
    "    def __init__(self):\n",
    "        self.lexer = LexerGenerator()\n",
    "\n",
    "    def _add_tokens(self):\n",
    "        self.lexer.add('PRINT', r'print')\n",
    "        self.lexer.add('OPEN_PAREN', r'\\(')\n",
    "        self.lexer.add('CLOSE_PAREN', r'\\)')\n",
    "        self.lexer.add('SEMI_COLON', r'\\;')\n",
    "        self.lexer.add('SUM', r'\\+')\n",
    "        self.lexer.add('SUB', r'\\-')\n",
    "        self.lexer.add('MUL', r'\\*')\n",
    "        self.lexer.add('DIV', r'\\/')\n",
    "        self.lexer.add('NUMBER', r'\\d+')\n",
    "        self.lexer.add('STRING', r'\\\".*?\\\"')\n",
    "        self.lexer.add('VARIABLE', r'[a-zA-Z_][a-zA-Z0-9_]*')  \n",
    "        self.lexer.ignore('\\s+')\n",
    "\n",
    "    def get_lexer(self):\n",
    "        self._add_tokens()\n",
    "        return self.lexer.build()"
   ],
   "metadata": {
    "collapsed": false,
    "ExecuteTime": {
     "end_time": "2024-02-06T07:43:28.804276700Z",
     "start_time": "2024-02-06T07:43:28.797746Z"
    }
   },
   "id": "dee2614aa848fc61"
  },
  {
   "cell_type": "code",
   "execution_count": 145,
   "outputs": [],
   "source": [
    "class Number():\n",
    "    def __init__(self, value):\n",
    "        self.value = value\n",
    "\n",
    "    def eval(self):\n",
    "        return int(self.value)\n",
    "\n",
    "\n",
    "class BinaryOp():\n",
    "    def __init__(self, left, right):\n",
    "        self.left = left\n",
    "        self.right = right\n",
    "\n",
    "\n",
    "class Sum(BinaryOp):\n",
    "    def eval(self):\n",
    "        return self.left.eval() + self.right.eval()\n",
    "\n",
    "\n",
    "class Sub(BinaryOp):\n",
    "    def eval(self):\n",
    "        return self.left.eval() - self.right.eval()\n",
    "\n",
    "\n",
    "class Mul(BinaryOp):\n",
    "    def eval(self):\n",
    "        return self.left.eval() * self.right.eval()\n",
    "\n",
    "\n",
    "class Div(BinaryOp):\n",
    "    def eval(self):\n",
    "        return self.left.eval() / self.right.eval()\n",
    "\n",
    "\n",
    "class String():\n",
    "    def __init__(self, value):\n",
    "        self.value = value\n",
    "    def eval(self):\n",
    "        print()\n",
    "        print(\"Output: \")\n",
    "        print('>>> '+str(self.value))\n",
    "\n",
    "\n",
    "class Print():\n",
    "    def __init__(self, value):\n",
    "        self.value = value\n",
    "\n",
    "    def eval(self):\n",
    "        if self.value.eval()!= None:\n",
    "            print()\n",
    "            print(\"Output: \")\n",
    "            print('>>> '+ str(self.value.eval()))\n",
    "        "
   ],
   "metadata": {
    "collapsed": false,
    "ExecuteTime": {
     "end_time": "2024-02-06T07:43:28.813763100Z",
     "start_time": "2024-02-06T07:43:28.808275400Z"
    }
   },
   "id": "a6a71d241d867557"
  },
  {
   "cell_type": "code",
   "execution_count": 146,
   "outputs": [],
   "source": [
    "from rply import ParserGenerator\n",
    "\n",
    "\n",
    "class Parser():\n",
    "    def __init__(self):\n",
    "        self.pg = ParserGenerator(\n",
    "            # A list of all token names accepted by the parser.\n",
    "            ['NUMBER', 'PRINT', 'OPEN_PAREN', 'CLOSE_PAREN',\n",
    "             'SEMI_COLON', 'SUM', 'SUB', 'MUL', 'DIV', 'STRING']\n",
    "        )\n",
    "\n",
    "    def parse(self):\n",
    "        @self.pg.production('program : PRINT OPEN_PAREN expression CLOSE_PAREN SEMI_COLON')\n",
    "        def program(p):\n",
    "            return Print(p[2])\n",
    "\n",
    "        @self.pg.production('expression : expression SUM expression')\n",
    "        @self.pg.production('expression : expression SUB expression')\n",
    "        @self.pg.production('expression : expression MUL expression')\n",
    "        @self.pg.production('expression : expression DIV expression')\n",
    "        def expression(p):\n",
    "            left = p[0]\n",
    "            right = p[2]\n",
    "            operator = p[1]\n",
    "            if operator.gettokentype() == 'SUM':\n",
    "                return Sum(left, right)\n",
    "            elif operator.gettokentype() == 'SUB':\n",
    "                return Sub(left, right)\n",
    "            elif operator.gettokentype() == 'MUL':\n",
    "                return Mul(left, right)\n",
    "            elif operator.gettokentype() == 'DIV':\n",
    "                return Div(left, right)\n",
    "\n",
    "        @self.pg.production('expression : NUMBER')\n",
    "        def number(p):\n",
    "            return Number(p[0].value)\n",
    "\n",
    "        @self.pg.production('expression : STRING')\n",
    "        def string(p):\n",
    "            return String(p[0].value[1:-1])\n",
    "        \n",
    "\n",
    "\n",
    "        @self.pg.error\n",
    "        def error_handle(token):\n",
    "            raise ValueError(token)\n",
    "\n",
    "    def get_parser(self):\n",
    "        return self.pg.build()"
   ],
   "metadata": {
    "collapsed": false,
    "ExecuteTime": {
     "end_time": "2024-02-06T07:43:28.827923200Z",
     "start_time": "2024-02-06T07:43:28.819760900Z"
    }
   },
   "id": "3a6aa374d35cb185"
  },
  {
   "cell_type": "code",
   "execution_count": 147,
   "outputs": [],
   "source": [
    "def token(input):\n",
    "    lexer = Lexer().get_lexer()\n",
    "    tokens = lexer.lex(input)\n",
    "    for token in tokens:\n",
    "        print(token)\n",
    "\n",
    "\n",
    "def run(input):\n",
    "    lexer = Lexer().get_lexer()\n",
    "    tokens = lexer.lex(input)\n",
    "    token(input)\n",
    "    pg = Parser()\n",
    "    pg.parse()\n",
    "    parser = pg.get_parser()\n",
    "    parser.parse(tokens).eval()"
   ],
   "metadata": {
    "collapsed": false,
    "ExecuteTime": {
     "end_time": "2024-02-06T07:43:28.837043900Z",
     "start_time": "2024-02-06T07:43:28.828924600Z"
    }
   },
   "id": "66417742c451c702"
  },
  {
   "cell_type": "code",
   "execution_count": 148,
   "outputs": [
    {
     "name": "stdout",
     "output_type": "stream",
     "text": [
      "Tokens : \n",
      "Token('PRINT', 'print')\n",
      "Token('OPEN_PAREN', '(')\n",
      "Token('STRING', '\"Welcome\"')\n",
      "Token('CLOSE_PAREN', ')')\n",
      "Token('SEMI_COLON', ';')\n",
      "\n",
      "Output: \n",
      ">>> Welcome\n"
     ]
    },
    {
     "name": "stderr",
     "output_type": "stream",
     "text": [
      "C:\\Users\\bhyea\\AppData\\Local\\Temp\\ipykernel_11780\\2923334858.py:49: ParserGeneratorWarning: 16 shift/reduce conflicts\n",
      "  return self.pg.build()\n"
     ]
    }
   ],
   "source": [
    "text_input = 'print(\"Welcome\");'\n",
    "# text_input = 'print(4*5);'\n",
    "\n",
    "# input(\"Plz use ; end of the line;\"))\n",
    "\n",
    "\"\"\"\n",
    "print(4 + 10 - 2);\n",
    "\"\"\"\n",
    "print(\"Tokens : \")\n",
    "run(text_input)\n"
   ],
   "metadata": {
    "collapsed": false,
    "ExecuteTime": {
     "end_time": "2024-02-06T07:43:28.846061800Z",
     "start_time": "2024-02-06T07:43:28.835046800Z"
    }
   },
   "id": "1e3dc61d8d917b4e"
  }
 ],
 "metadata": {
  "kernelspec": {
   "display_name": "Python 3",
   "language": "python",
   "name": "python3"
  },
  "language_info": {
   "codemirror_mode": {
    "name": "ipython",
    "version": 2
   },
   "file_extension": ".py",
   "mimetype": "text/x-python",
   "name": "python",
   "nbconvert_exporter": "python",
   "pygments_lexer": "ipython2",
   "version": "2.7.6"
  }
 },
 "nbformat": 4,
 "nbformat_minor": 5
}
