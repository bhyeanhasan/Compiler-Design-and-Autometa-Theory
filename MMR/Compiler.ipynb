{
 "cells": [
  {
   "cell_type": "code",
   "execution_count": 181,
   "outputs": [],
   "source": [
    "from rply import LexerGenerator\n",
    "\n",
    "\n",
    "class Lexer():\n",
    "    def __init__(self):\n",
    "        self.lexer = LexerGenerator()\n",
    "\n",
    "    def _add_tokens(self):\n",
    "        self.lexer.add('PRINT', r'print')\n",
    "        self.lexer.add('OPEN_PAREN', r'\\(')\n",
    "        self.lexer.add('CLOSE_PAREN', r'\\)')\n",
    "        self.lexer.add('SEMI_COLON', r'\\;')\n",
    "        self.lexer.add('SUM', r'\\+')\n",
    "        self.lexer.add('SUB', r'\\-')\n",
    "        self.lexer.add('MUL', r'\\*')\n",
    "        self.lexer.add('DIV', r'\\/')\n",
    "        self.lexer.add('NUMBER', r'\\d+')\n",
    "        self.lexer.ignore('\\s+')\n",
    "\n",
    "    def get_lexer(self):\n",
    "        self._add_tokens()\n",
    "        return self.lexer.build()"
   ],
   "metadata": {
    "collapsed": false,
    "ExecuteTime": {
     "end_time": "2024-01-17T14:04:15.887604Z",
     "start_time": "2024-01-17T14:04:15.878595Z"
    }
   },
   "id": "dee2614aa848fc61"
  },
  {
   "cell_type": "code",
   "execution_count": 182,
   "outputs": [],
   "source": [
    "class Number():\n",
    "    def __init__(self, value):\n",
    "        self.value = value\n",
    "\n",
    "    def eval(self):\n",
    "        return int(self.value)\n",
    "\n",
    "\n",
    "class BinaryOp():\n",
    "    def __init__(self, left, right):\n",
    "        self.left = left\n",
    "        self.right = right\n",
    "\n",
    "\n",
    "class Sum(BinaryOp):\n",
    "    def eval(self):\n",
    "        return self.left.eval() + self.right.eval()\n",
    "\n",
    "\n",
    "class Sub(BinaryOp):\n",
    "    def eval(self):\n",
    "        return self.left.eval() - self.right.eval()\n",
    "\n",
    "\n",
    "class Mul(BinaryOp):\n",
    "    def eval(self):\n",
    "        return self.left.eval() * self.right.eval()\n",
    "\n",
    "\n",
    "class Div(BinaryOp):\n",
    "    def eval(self):\n",
    "        return self.left.eval() / self.right.eval()\n",
    "\n",
    "\n",
    "class Print():\n",
    "    def __init__(self, value):\n",
    "        self.value = value\n",
    "\n",
    "    def eval(self):\n",
    "        print(self.value.eval())"
   ],
   "metadata": {
    "collapsed": false,
    "ExecuteTime": {
     "end_time": "2024-01-17T14:04:15.917896100Z",
     "start_time": "2024-01-17T14:04:15.888609400Z"
    }
   },
   "id": "a6a71d241d867557"
  },
  {
   "cell_type": "code",
   "execution_count": 183,
   "outputs": [],
   "source": [
    "from rply import ParserGenerator\n",
    "\n",
    "\n",
    "class Parser():\n",
    "    def __init__(self):\n",
    "        self.pg = ParserGenerator(\n",
    "            # A list of all token names accepted by the parser.\n",
    "            ['NUMBER', 'PRINT', 'OPEN_PAREN', 'CLOSE_PAREN',\n",
    "             'SEMI_COLON', 'SUM', 'SUB','MUL','DIV']\n",
    "        )\n",
    "\n",
    "    def parse(self):\n",
    "        @self.pg.production('program : PRINT OPEN_PAREN expression CLOSE_PAREN SEMI_COLON')\n",
    "        def program(p):\n",
    "            return Print(p[2])\n",
    "\n",
    "        @self.pg.production('expression : expression SUM expression')\n",
    "        @self.pg.production('expression : expression SUB expression')\n",
    "        @self.pg.production('expression : expression MUL expression')\n",
    "        @self.pg.production('expression : expression DIV expression')\n",
    "        def expression(p):\n",
    "            left = p[0]\n",
    "            right = p[2]\n",
    "            operator = p[1]\n",
    "            if operator.gettokentype() == 'SUM':\n",
    "                return Sum(left, right)\n",
    "            elif operator.gettokentype() == 'SUB':\n",
    "                return Sub(left, right)\n",
    "            elif operator.gettokentype() == 'MUL':\n",
    "                return Mul(left, right)\n",
    "            elif operator.gettokentype() == 'DIV':\n",
    "                return Div(left, right)\n",
    "\n",
    "        @self.pg.production('expression : NUMBER')\n",
    "        def number(p):\n",
    "            return Number(p[0].value)\n",
    "\n",
    "        @self.pg.error\n",
    "        def error_handle(token):\n",
    "            raise ValueError(token)\n",
    "\n",
    "    def get_parser(self):\n",
    "        return self.pg.build()"
   ],
   "metadata": {
    "collapsed": false,
    "ExecuteTime": {
     "end_time": "2024-01-17T14:04:15.919402600Z",
     "start_time": "2024-01-17T14:04:15.902716900Z"
    }
   },
   "id": "3a6aa374d35cb185"
  },
  {
   "cell_type": "code",
   "execution_count": 184,
   "outputs": [],
   "source": [
    "def token(input):\n",
    "    lexer = Lexer().get_lexer()\n",
    "    tokens = lexer.lex(input)\n",
    "    for token in tokens:\n",
    "        print(token)\n",
    "\n",
    "\n",
    "def run(input):\n",
    "    lexer = Lexer().get_lexer()\n",
    "    tokens = lexer.lex(input)\n",
    "    token(input)\n",
    "    pg = Parser()\n",
    "    pg.parse()\n",
    "    parser = pg.get_parser()\n",
    "    parser.parse(tokens).eval()"
   ],
   "metadata": {
    "collapsed": false,
    "ExecuteTime": {
     "end_time": "2024-01-17T14:04:15.919402600Z",
     "start_time": "2024-01-17T14:04:15.909255800Z"
    }
   },
   "id": "66417742c451c702"
  },
  {
   "cell_type": "code",
   "execution_count": 185,
   "outputs": [
    {
     "name": "stdout",
     "output_type": "stream",
     "text": [
      "Token('PRINT', 'print')\n",
      "Token('OPEN_PAREN', '(')\n",
      "Token('NUMBER', '8')\n",
      "Token('DIV', '/')\n",
      "Token('NUMBER', '3')\n",
      "Token('CLOSE_PAREN', ')')\n",
      "Token('SEMI_COLON', ';')\n",
      "2.6666666666666665\n"
     ]
    },
    {
     "name": "stderr",
     "output_type": "stream",
     "text": [
      "C:\\Users\\bhyea\\AppData\\Local\\Temp\\ipykernel_6776\\163393296.py:43: ParserGeneratorWarning: 16 shift/reduce conflicts\n",
      "  return self.pg.build()\n"
     ]
    }
   ],
   "source": [
    "text_input = 'print(8/3);'\n",
    "    # input(\"Plz use ; end of the line;\"))\n",
    "\n",
    "\"\"\"\n",
    "print(4 + 10 - 2);\n",
    "\"\"\"\n",
    "\n",
    "run(text_input)"
   ],
   "metadata": {
    "collapsed": false,
    "ExecuteTime": {
     "end_time": "2024-01-17T14:04:15.952730300Z",
     "start_time": "2024-01-17T14:04:15.916892900Z"
    }
   },
   "id": "1e3dc61d8d917b4e"
  },
  {
   "cell_type": "code",
   "execution_count": 185,
   "outputs": [],
   "source": [],
   "metadata": {
    "collapsed": false,
    "ExecuteTime": {
     "end_time": "2024-01-17T14:04:15.952730300Z",
     "start_time": "2024-01-17T14:04:15.926215700Z"
    }
   },
   "id": "8beb15a5a302fba3"
  }
 ],
 "metadata": {
  "kernelspec": {
   "display_name": "Python 3",
   "language": "python",
   "name": "python3"
  },
  "language_info": {
   "codemirror_mode": {
    "name": "ipython",
    "version": 2
   },
   "file_extension": ".py",
   "mimetype": "text/x-python",
   "name": "python",
   "nbconvert_exporter": "python",
   "pygments_lexer": "ipython2",
   "version": "2.7.6"
  }
 },
 "nbformat": 4,
 "nbformat_minor": 5
}
