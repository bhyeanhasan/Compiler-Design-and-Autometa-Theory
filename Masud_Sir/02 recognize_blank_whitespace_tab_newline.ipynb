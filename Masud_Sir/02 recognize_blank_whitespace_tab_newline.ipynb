{
 "cells": [
  {
   "cell_type": "code",
   "execution_count": 1,
   "metadata": {
    "ExecuteTime": {
     "end_time": "2023-11-28T04:10:10.478446200Z",
     "start_time": "2023-11-28T04:10:10.468018100Z"
    }
   },
   "outputs": [
    {
     "name": "stdout",
     "output_type": "stream",
     "text": [
      "Occurrences of blank spaces: 15\n",
      "Occurrences of white spaces, tabs, and newlines: 2\n",
      "Occurrences of tabs: 0\n",
      "Occurrences of newlines: 0\n"
     ]
    }
   ],
   "source": [
    "def recognize_whitespace_in_python(file_path):\n",
    "    # Initialize counts\n",
    "    blank_count = 0\n",
    "    whitespace_count = 0\n",
    "    tab_count = 0\n",
    "    newline_count = 0\n",
    "\n",
    "    try:\n",
    "        # Read the Python code from the file\n",
    "        with open(file_path, 'r', encoding='utf-8') as file:\n",
    "            python_code = file.read()\n",
    "\n",
    "        # Iterate through each character in the Python code\n",
    "        for char in python_code:\n",
    "            if char == ' ':\n",
    "                blank_count += 1\n",
    "            elif char.isspace():\n",
    "                whitespace_count += 1\n",
    "            elif char == '\\t':\n",
    "                tab_count += 1\n",
    "            elif char == '\\n':\n",
    "                newline_count += 1\n",
    "\n",
    "    except FileNotFoundError:\n",
    "        print(f\"File '{file_path}' not found.\")\n",
    "    except Exception as e:\n",
    "        print(f\"An error occurred: {e}\")\n",
    "\n",
    "    return blank_count, whitespace_count, tab_count, newline_count\n",
    "\n",
    "if __name__ == \"__main__\":\n",
    "    # Hardcoded file path for testing\n",
    "    hardcoded_file_path = \"example.py\"\n",
    "\n",
    "    # Call the function to recognize whitespace in the Python code\n",
    "    blank, whitespace, tab, newline = recognize_whitespace_in_python(hardcoded_file_path)\n",
    "\n",
    "    # Display the results\n",
    "    print(f\"Occurrences of blank spaces: {blank}\")\n",
    "    print(f\"Occurrences of white spaces, tabs, and newlines: {whitespace}\")\n",
    "    print(f\"Occurrences of tabs: {tab}\")\n",
    "    print(f\"Occurrences of newlines: {newline}\")\n"
   ]
  }
 ],
 "metadata": {
  "kernelspec": {
   "display_name": "Python 3",
   "language": "python",
   "name": "python3"
  },
  "language_info": {
   "codemirror_mode": {
    "name": "ipython",
    "version": 3
   },
   "file_extension": ".py",
   "mimetype": "text/x-python",
   "name": "python",
   "nbconvert_exporter": "python",
   "pygments_lexer": "ipython3",
   "version": "3.11.0"
  }
 },
 "nbformat": 4,
 "nbformat_minor": 2
}
