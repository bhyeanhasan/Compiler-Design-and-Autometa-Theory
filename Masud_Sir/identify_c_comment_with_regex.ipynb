{
 "cells": [
  {
   "cell_type": "code",
   "execution_count": 1,
   "metadata": {
    "ExecuteTime": {
     "end_time": "2024-01-17T17:09:33.432470800Z",
     "start_time": "2024-01-17T17:09:33.423035800Z"
    }
   },
   "outputs": [
    {
     "name": "stdout",
     "output_type": "stream",
     "text": [
      "// This is a single-line comment\n",
      "/*\n",
      "    This is a\n",
      "    multi-line\n",
      "    comment */\n"
     ]
    }
   ],
   "source": [
    "import re\n",
    "\n",
    "def extract_comments(code):\n",
    "    # Regular expression for single-line comments (//)\n",
    "    single_line_pattern = r'\\/\\/.*'\n",
    "    # Regular expression for multi-line comments (/* ... */)\n",
    "    multi_line_pattern = r'\\/\\*.*?\\*\\/'\n",
    "    # Find single-line comments\n",
    "    single_line_comments = re.findall(single_line_pattern, code)\n",
    "    # Find multi-line comments\n",
    "    multi_line_comments = re.findall(multi_line_pattern, code, re.DOTALL)\n",
    "    return single_line_comments + multi_line_comments\n",
    "\n",
    "# Example C/C++ code\n",
    "c_code = \"\"\"\n",
    "// This is a single-line comment\n",
    "int main() {\n",
    "    /*\n",
    "    This is a\n",
    "    multi-line\n",
    "    comment */\n",
    "    return 0;\n",
    "}\n",
    "\"\"\"\n",
    "\n",
    "# Extract comments from the code\n",
    "comments = extract_comments(c_code)\n",
    "\n",
    "# Print the extracted comments\n",
    "for comment in comments:\n",
    "    print(comment.strip())\n"
   ]
  }
 ],
 "metadata": {
  "language_info": {
   "name": "python"
  },
  "kernelspec": {
   "name": "python3",
   "language": "python",
   "display_name": "Python 3 (ipykernel)"
  }
 },
 "nbformat": 4,
 "nbformat_minor": 2
}
