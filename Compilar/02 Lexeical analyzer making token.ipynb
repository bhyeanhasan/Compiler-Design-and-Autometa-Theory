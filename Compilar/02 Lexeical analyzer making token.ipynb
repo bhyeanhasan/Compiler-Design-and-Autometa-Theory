{
 "cells": [
  {
   "cell_type": "code",
   "execution_count": 2,
   "metadata": {
    "ExecuteTime": {
     "end_time": "2023-11-28T07:25:45.694720400Z",
     "start_time": "2023-11-28T07:25:45.669383600Z"
    }
   },
   "outputs": [
    {
     "name": "stdout",
     "output_type": "stream",
     "text": [
      "Total number of tokens: 27\n",
      "Tokens =  ['int', 'main', '(', ')', '{', 'int', 'a', '=', '10', ',', 'b', '=', '20', ';', 'printf', '(', '\"asdsajd sad dj\"', ',', 'a', '+', 'b', ')', ';', 'return', '0', ';', '}']\n"
     ]
    }
   ],
   "source": [
    "import re\n",
    "\n",
    "def count_tokens(c_code):\n",
    "    patterns = {\n",
    "        'keywords': r'\\b(int|return)\\b',\n",
    "        'identifiers': r'\\b[a-zA-Z_]\\w*\\b',\n",
    "        'operators': r'[+\\-*/=,;(){}]',\n",
    "        'literals': r'\\b\\d+\\b',\n",
    "        'strings': r'\"[^\"]*\"'\n",
    "    }\n",
    "\n",
    "    combined_pattern = '|'.join(f'({pattern})' for pattern in patterns.values())\n",
    "\n",
    "    matches = re.findall(combined_pattern, c_code)\n",
    "\n",
    "    tokens_as_string = []\n",
    "    for match in matches:\n",
    "        unique_tokens = set()\n",
    "        for token in match:\n",
    "            if token:\n",
    "                unique_tokens.add(token)\n",
    "        tokens_as_string.append(', '.join(sorted(unique_tokens)))\n",
    "\n",
    "    token_count = len(tokens_as_string)\n",
    "\n",
    "    return token_count, tokens_as_string\n",
    "\n",
    "\n",
    "\n",
    "\n",
    "# Example C code\n",
    "c_code = \"\"\"\n",
    "int main()\n",
    "{\n",
    "  int a = 10, b = 20;\n",
    "  printf(\"asdsajd sad dj\", a + b);\n",
    "  return 0;\n",
    "}\n",
    "\"\"\"\n",
    "\n",
    "\n",
    "total_tokens, token_list = count_tokens(c_code)\n",
    "print(f'Total number of tokens: {total_tokens}')\n",
    "print('Tokens = ', token_list)"
   ]
  }
 ],
 "metadata": {
  "kernelspec": {
   "display_name": "Python 3",
   "language": "python",
   "name": "python3"
  },
  "language_info": {
   "codemirror_mode": {
    "name": "ipython",
    "version": 3
   },
   "file_extension": ".py",
   "mimetype": "text/x-python",
   "name": "python",
   "nbconvert_exporter": "python",
   "pygments_lexer": "ipython3",
   "version": "3.11.0"
  }
 },
 "nbformat": 4,
 "nbformat_minor": 2
}
