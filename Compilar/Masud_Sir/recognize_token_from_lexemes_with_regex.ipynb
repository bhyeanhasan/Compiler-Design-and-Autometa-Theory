{
 "cells": [
  {
   "cell_type": "code",
   "execution_count": 1,
   "metadata": {
    "ExecuteTime": {
     "end_time": "2024-01-17T18:59:30.494958200Z",
     "start_time": "2024-01-17T18:59:27.567436300Z"
    }
   },
   "outputs": [
    {
     "name": "stdout",
     "output_type": "stream",
     "text": [
      "The lexeme '87.5' represents a 'FLOAT' token.\n"
     ]
    }
   ],
   "source": [
    "import re\n",
    "\n",
    "def recognize_tokens(lexeme):\n",
    "    # Define regular expressions for different types of tokens\n",
    "    token_patterns = {\n",
    "    'IDENTIFIER': r'^[a-zA-Z_][a-zA-Z0-9_]*$',  # Matches valid identifiers (start with a letter or underscore, \n",
    "                                                # followed by letters, digits, or underscores)\n",
    "    'INTEGER': r'^[0-9]+$',  # Matches integers (one or more digits)\n",
    "    'FLOAT': r'^[0-9]+\\.[0-9]+$',  # Matches floats (digits followed by a dot and more digits)\n",
    "    'OPERATOR': r'^[+\\-*/%]$',  # Matches operators (+, -, *, /, %)\n",
    "    'PUNCTUATION': r'^[;,()]$',  # Matches common punctuation symbols (;, ,, (, ))\n",
    "    'KEYWORD': r'^(if|else|while|for|int|float|return|def|class|import|from)$'  # Matches specific keywords\n",
    "    # Add more token patterns as needed\n",
    "}\n",
    "\n",
    "\n",
    "    # Check each token pattern and return the corresponding token type if matched\n",
    "    for token_type, pattern in token_patterns.items():\n",
    "        if re.match(pattern, lexeme):\n",
    "            return token_type\n",
    "\n",
    "    # If no pattern is matched, return 'UNKNOWN'\n",
    "    return 'UNKNOWN'\n",
    "\n",
    "if __name__ == \"__main__\":\n",
    "    user_input = input(\"Enter one lexeme: \")\n",
    "\n",
    "    # Recognize the token type for the given lexeme\n",
    "    token_type = recognize_tokens(user_input)\n",
    "\n",
    "    # Display the result\n",
    "    print(f\"The lexeme '{user_input}' represents a '{token_type}' token.\")\n"
   ]
  }
 ],
 "metadata": {
  "kernelspec": {
   "display_name": "Python 3",
   "language": "python",
   "name": "python3"
  },
  "language_info": {
   "codemirror_mode": {
    "name": "ipython",
    "version": 3
   },
   "file_extension": ".py",
   "mimetype": "text/x-python",
   "name": "python",
   "nbconvert_exporter": "python",
   "pygments_lexer": "ipython3",
   "version": "3.12.0"
  }
 },
 "nbformat": 4,
 "nbformat_minor": 2
}
