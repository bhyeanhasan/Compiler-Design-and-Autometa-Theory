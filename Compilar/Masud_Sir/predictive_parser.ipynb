{
 "cells": [
  {
   "cell_type": "code",
   "execution_count": 1,
   "metadata": {
    "ExecuteTime": {
     "end_time": "2024-01-17T18:58:58.025898700Z",
     "start_time": "2024-01-17T18:58:58.017780200Z"
    }
   },
   "outputs": [
    {
     "name": "stdout",
     "output_type": "stream",
     "text": [
      "\n",
      "The following is the predictive parsing table for the following grammar:\n",
      "S->A\n",
      "A->Bb\n",
      "A->Cd\n",
      "B->aB\n",
      "B->@\n",
      "C->Cc\n",
      "C->@\n",
      "\n",
      "Predictive parsing table is\n",
      "\n",
      "--------------------------------------------------------\n",
      "|           |     a     |     b     |     c     |     d     |     $     |\n",
      "--------------------------------------------------------\n",
      "|     S     |    S->A   |    S->A   |    S->A   |    S->A   |           |\n",
      "--------------------------------------------------------\n",
      "|     A     |   A->Bb   |   A->Bb   |   A->Cd   |   A->Cd   |           |\n",
      "--------------------------------------------------------\n",
      "|     B     |   B->aB   |    B->@   |           |           |    B->@   |\n",
      "--------------------------------------------------------\n",
      "|     C     |           |           |   C->Cc   |    C->@   |    C->@   |\n",
      "--------------------------------------------------------\n"
     ]
    }
   ],
   "source": [
    "def numr(c):\n",
    "    switcher = {\n",
    "        'S': 0,\n",
    "        'A': 1,\n",
    "        'B': 2,\n",
    "        'C': 3,\n",
    "        'a': 0,\n",
    "        'b': 1,\n",
    "        'c': 2,\n",
    "        'd': 3,\n",
    "        '$': 4\n",
    "    }\n",
    "    return switcher.get(c, 2)\n",
    "\n",
    "def main():\n",
    "    table = [[' ' for _ in range(6)] for _ in range(5)]\n",
    "    \n",
    "    prol = [\"S\", \"A\", \"A\", \"B\", \"B\", \"C\", \"C\"]\n",
    "    pror = [\"A\", \"Bb\", \"Cd\", \"aB\", \"@\", \"Cc\", \"@\"]\n",
    "    prod = [\"S->A\", \"A->Bb\", \"A->Cd\", \"B->aB\", \"B->@\", \"C->Cc\", \"C->@\"]\n",
    "    first = [\"abcd\", \"ab\", \"cd\", \"a@\", \"@\", \"c@\", \"@\"]\n",
    "    follow = [\"$\", \"$\", \"$\", \"a$\", \"b$\", \"c$\", \"d$\"]\n",
    "\n",
    "    print(\"\\nThe following is the predictive parsing table for the following grammar:\")\n",
    "    for p in prod:\n",
    "        print(p)\n",
    "\n",
    "    print(\"\\nPredictive parsing table is\")\n",
    "    for i in range(7):\n",
    "        k = min(len(first[i]), 10)  # Use the minimum length\n",
    "        for j in range(k):\n",
    "            if first[i][j] != '@':\n",
    "                table[numr(prol[i][0]) + 1][numr(first[i][j]) + 1] = prod[i]\n",
    "\n",
    "    for i in range(7):\n",
    "        if len(pror[i]) == 1:\n",
    "            if pror[i][0] == '@':\n",
    "                k = len(follow[i])\n",
    "                for j in range(k):\n",
    "                    table[numr(prol[i][0]) + 1][numr(follow[i][j]) + 1] = prod[i]\n",
    "\n",
    "    table[0][0] = \" \"\n",
    "    table[0][1] = \"a\"\n",
    "    table[0][2] = \"b\"\n",
    "    table[0][3] = \"c\"\n",
    "    table[0][4] = \"d\"\n",
    "    table[0][5] = \"$\"\n",
    "    table[1][0] = \"S\"\n",
    "    table[2][0] = \"A\"\n",
    "    table[3][0] = \"B\"\n",
    "    table[4][0] = \"C\"\n",
    "\n",
    "    print(\"\\n\" + \"-\" * 56)\n",
    "    for i in range(5):\n",
    "        for j in range(6):\n",
    "            print(f\"| {table[i][j]:^10}\", end=\"\")\n",
    "            if j == 5:\n",
    "                print(\"|\")\n",
    "                print(\"-\" * 56)\n",
    "\n",
    "if __name__ == \"__main__\":\n",
    "    main()\n"
   ]
  }
 ],
 "metadata": {
  "kernelspec": {
   "display_name": "Python 3",
   "language": "python",
   "name": "python3"
  },
  "language_info": {
   "codemirror_mode": {
    "name": "ipython",
    "version": 3
   },
   "file_extension": ".py",
   "mimetype": "text/x-python",
   "name": "python",
   "nbconvert_exporter": "python",
   "pygments_lexer": "ipython3",
   "version": "3.12.0"
  }
 },
 "nbformat": 4,
 "nbformat_minor": 2
}
