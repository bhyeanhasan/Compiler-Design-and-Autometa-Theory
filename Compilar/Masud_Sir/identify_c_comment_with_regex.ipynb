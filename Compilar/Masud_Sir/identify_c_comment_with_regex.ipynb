{
 "cells": [
  {
   "cell_type": "code",
   "execution_count": 2,
   "metadata": {},
   "outputs": [
    {
     "name": "stdout",
     "output_type": "stream",
     "text": [
      "// This is a single-line comment\n",
      "/*\n",
      "    This is a\n",
      "    multi-line\n",
      "    comment */\n"
     ]
    }
   ],
   "source": [
    "import re\n",
    "\n",
    "def extract_comments(code):\n",
    "    # Regular expression for single-line comments (//)\n",
    "    single_line_pattern = r'\\/\\/.*'\n",
    "\n",
    "    # Regular expression for multi-line comments (/* ... */)\n",
    "    multi_line_pattern = r'\\/\\*.*?\\*\\/'\n",
    "\n",
    "    # Find single-line comments\n",
    "    single_line_comments = re.findall(single_line_pattern, code)\n",
    "\n",
    "    # Find multi-line comments\n",
    "    multi_line_comments = re.findall(multi_line_pattern, code, re.DOTALL)\n",
    "\n",
    "    return single_line_comments + multi_line_comments\n",
    "\n",
    "# Example C/C++ code\n",
    "c_code = \"\"\"\n",
    "// This is a single-line comment\n",
    "int main() {\n",
    "    /*\n",
    "    This is a\n",
    "    multi-line\n",
    "    comment */\n",
    "    return 0;\n",
    "}\n",
    "\"\"\"\n",
    "\n",
    "# Extract comments from the code\n",
    "comments = extract_comments(c_code)\n",
    "\n",
    "# Print the extracted comments\n",
    "for comment in comments:\n",
    "    print(comment.strip())\n"
   ]
  }
 ],
 "metadata": {
  "kernelspec": {
   "display_name": "Python 3",
   "language": "python",
   "name": "python3"
  },
  "language_info": {
   "codemirror_mode": {
    "name": "ipython",
    "version": 3
   },
   "file_extension": ".py",
   "mimetype": "text/x-python",
   "name": "python",
   "nbconvert_exporter": "python",
   "pygments_lexer": "ipython3",
   "version": "3.12.0"
  }
 },
 "nbformat": 4,
 "nbformat_minor": 2
}
