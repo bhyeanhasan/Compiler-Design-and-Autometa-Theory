{
 "cells": [
  {
   "cell_type": "code",
   "execution_count": 5,
   "metadata": {},
   "outputs": [
    {
     "name": "stdout",
     "output_type": "stream",
     "text": [
      "INTEGER: 8\n",
      "OPERATOR: +\n",
      "INTEGER: 6\n",
      "OPERATOR: +\n",
      "INTEGER: 6\n"
     ]
    }
   ],
   "source": [
    "def get_next_token(expression, index):\n",
    "    token = None\n",
    "\n",
    "    while index < len(expression) and expression[index].isspace():\n",
    "        index += 1\n",
    "\n",
    "    if index < len(expression) and expression[index].isdigit():\n",
    "        token = (\"INTEGER\", \"\")\n",
    "        while index < len(expression) and expression[index].isdigit():\n",
    "            token = (\"INTEGER\", token[1] + expression[index])\n",
    "            index += 1\n",
    "    elif index < len(expression) and expression[index] in \"+-*/\":\n",
    "        token = (\"OPERATOR\", expression[index])\n",
    "        index += 1\n",
    "    elif index == len(expression):\n",
    "        token = (\"EOL\",)\n",
    "\n",
    "    return token, index\n",
    "\n",
    "\n",
    "def parse_expression(token, index):\n",
    "    if token[0] == \"INTEGER\":\n",
    "        print(f\"INTEGER: {token[1]}\")\n",
    "        token, index = get_next_token(expression, index)\n",
    "\n",
    "    while token and token[0] == \"OPERATOR\":\n",
    "        print(f\"OPERATOR: {token[1]}\")\n",
    "        token, index = get_next_token(expression, index)\n",
    "\n",
    "        if token and token[0] == \"INTEGER\":\n",
    "            print(f\"INTEGER: {token[1]}\")\n",
    "            token, index = get_next_token(expression, index)\n",
    "        else:\n",
    "            print(\"Error: Invalid syntax.\")\n",
    "            break\n",
    "\n",
    "    if not token:\n",
    "        print(\"Parsing completed successfully.\")\n",
    "\n",
    "\n",
    "if __name__ == \"__main__\":\n",
    "    expression = input(\"Enter an expressiona(integers only and operator): \")\n",
    "    index = 0\n",
    "    initial_token, index = get_next_token(expression, index)\n",
    "    parse_expression(initial_token, index)\n"
   ]
  }
 ],
 "metadata": {
  "kernelspec": {
   "display_name": "Python 3",
   "language": "python",
   "name": "python3"
  },
  "language_info": {
   "codemirror_mode": {
    "name": "ipython",
    "version": 3
   },
   "file_extension": ".py",
   "mimetype": "text/x-python",
   "name": "python",
   "nbconvert_exporter": "python",
   "pygments_lexer": "ipython3",
   "version": "3.12.0"
  }
 },
 "nbformat": 4,
 "nbformat_minor": 2
}
